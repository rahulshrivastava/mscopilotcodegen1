{
 "cells": [
  {
   "cell_type": "code",
   "execution_count": 51,
   "id": "65937844-01bc-40dc-b4ec-7ebf68d50172",
   "metadata": {},
   "outputs": [],
   "source": [
    "# This is the version of the data transformation that works with chatGPT\n",
    "\n",
    "\n",
    "from langchain.chat_models import AzureChatOpenAI\n",
    "from langchain.chains import LLMChain\n",
    "from langchain.prompts import PromptTemplate\n",
    "from langchain_core.prompts.chat import ChatPromptTemplate\n",
    "from typing import Any, Dict, List, Union\n",
    "from dotenv import load_dotenv\n",
    "import os\n",
    "import autopep8\n",
    "import pandas as pd\n",
    "\n",
    "def init(file_path,question,system):\n",
    "    load_dotenv('env_new')\n",
    "\n",
    "    llm = AzureChatOpenAI(\n",
    "                openai_api_version=os.environ[\"AZURE_OPENAI_API_VERSION\"],\n",
    "                azure_deployment=os.environ[\"AZURE_OPENAI_CHAT_DEPLOYMENT_NAME\"],\n",
    "                temperature=0.0,\n",
    "                max_tokens=4000,\n",
    "                )\n",
    "    \n",
    "    chat_template = ChatPromptTemplate.from_messages(\n",
    "        [\n",
    "            (\"system\", \"{system}\"),\n",
    "            (\"human\", \"{question}\"),\n",
    "        ]\n",
    "    )\n",
    "    messages = chat_template.format_messages(\n",
    "        question = question,\n",
    "        system = system\n",
    "    )\n",
    "    response = llm.invoke(messages)   \n",
    "    \n"
   ]
  },
  {
   "cell_type": "code",
   "execution_count": 52,
   "id": "e932aea4-4850-4fa9-854e-08ef923bfece",
   "metadata": {},
   "outputs": [
    {
     "name": "stdout",
     "output_type": "stream",
     "text": [
      "enter source data path\n"
     ]
    },
    {
     "name": "stdin",
     "output_type": "stream",
     "text": [
      " \"C:\\Users\\2000136394\\Downloads\\annual-enterprise-survey-2023-financial-year-provisional.csv\"\n"
     ]
    },
    {
     "name": "stdout",
     "output_type": "stream",
     "text": [
      "None\n"
     ]
    }
   ],
   "source": [
    "df_transformeddata = pd.DataFrame()\n",
    "print(\"enter source data path\")\n",
    "file = input()\n",
    "#class_data = init(file,\"Transform data to pyspark format\",\"you  are python coder\")\n",
    "class_data = init(file,\"Give python code in markdown formar to do dataransformation with file annual-enterprise-survey-2023-financial-year-provisional.csv, do data cleaning,normalisation and aggregation \",\"you are a python coder.\")\n",
    "print(class_data)\n"
   ]
  },
  {
   "cell_type": "code",
   "execution_count": null,
   "id": "f4de865a-b5a4-44d0-b376-933024f741bf",
   "metadata": {},
   "outputs": [],
   "source": []
  },
  {
   "cell_type": "code",
   "execution_count": null,
   "id": "87d4bc99-50dc-4ff2-8e7f-bfd89a526e70",
   "metadata": {},
   "outputs": [],
   "source": []
  }
 ],
 "metadata": {
  "kernelspec": {
   "display_name": "Python 3 (ipykernel)",
   "language": "python",
   "name": "python3"
  },
  "language_info": {
   "codemirror_mode": {
    "name": "ipython",
    "version": 3
   },
   "file_extension": ".py",
   "mimetype": "text/x-python",
   "name": "python",
   "nbconvert_exporter": "python",
   "pygments_lexer": "ipython3",
   "version": "3.12.7"
  }
 },
 "nbformat": 4,
 "nbformat_minor": 5
}
